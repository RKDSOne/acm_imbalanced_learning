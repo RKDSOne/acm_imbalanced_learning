{
 "cells": [
  {
   "cell_type": "code",
   "execution_count": 50,
   "metadata": {
    "collapsed": false
   },
   "outputs": [
    {
     "name": "stdout",
     "output_type": "stream",
     "text": [
      "The autoreload extension is already loaded. To reload it, use:\n",
      "  %reload_ext autoreload\n"
     ]
    }
   ],
   "source": [
    "# Import useful libraries used in the notebook\n",
    "import time\n",
    "import numpy as np\n",
    "import matplotlib.pyplot as plt\n",
    "import pandas as pd\n",
    "# pd.set_option('display.mpl_style', 'default') # Make the graphs a bit prettier\n",
    "\n",
    "from sklearn.linear_model import LogisticRegression\n",
    "from sklearn.cross_validation import train_test_split\n",
    "from sklearn import metrics\n",
    "from sklearn.cross_validation import cross_val_score\n",
    "\n",
    "# Visualization\n",
    "from sklearn.manifold import TSNE\n",
    "from sklearn.decomposition import PCA\n",
    "\n",
    "# Show plots inline \n",
    "%matplotlib inline\n",
    "\n",
    "# Auto-reload external modules\n",
    "%load_ext autoreload\n",
    "%autoreload 2"
   ]
  },
  {
   "cell_type": "code",
   "execution_count": 51,
   "metadata": {
    "collapsed": false
   },
   "outputs": [
    {
     "data": {
      "text/html": [
       "<div>\n",
       "<table border=\"1\" class=\"dataframe\">\n",
       "  <thead>\n",
       "    <tr style=\"text-align: right;\">\n",
       "      <th></th>\n",
       "      <th>Unnamed: 0</th>\n",
       "      <th>SeriousDlqin2yrs</th>\n",
       "      <th>RevolvingUtilizationOfUnsecuredLines</th>\n",
       "      <th>age</th>\n",
       "      <th>NumberOfTime30-59DaysPastDueNotWorse</th>\n",
       "      <th>DebtRatio</th>\n",
       "      <th>MonthlyIncome</th>\n",
       "      <th>NumberOfOpenCreditLinesAndLoans</th>\n",
       "      <th>NumberOfTimes90DaysLate</th>\n",
       "      <th>NumberRealEstateLoansOrLines</th>\n",
       "      <th>NumberOfTime60-89DaysPastDueNotWorse</th>\n",
       "      <th>NumberOfDependents</th>\n",
       "    </tr>\n",
       "  </thead>\n",
       "  <tbody>\n",
       "    <tr>\n",
       "      <th>0</th>\n",
       "      <td>1</td>\n",
       "      <td>1</td>\n",
       "      <td>0.766127</td>\n",
       "      <td>45</td>\n",
       "      <td>2</td>\n",
       "      <td>0.802982</td>\n",
       "      <td>9120.0</td>\n",
       "      <td>13</td>\n",
       "      <td>0</td>\n",
       "      <td>6</td>\n",
       "      <td>0</td>\n",
       "      <td>2.0</td>\n",
       "    </tr>\n",
       "    <tr>\n",
       "      <th>1</th>\n",
       "      <td>2</td>\n",
       "      <td>0</td>\n",
       "      <td>0.957151</td>\n",
       "      <td>40</td>\n",
       "      <td>0</td>\n",
       "      <td>0.121876</td>\n",
       "      <td>2600.0</td>\n",
       "      <td>4</td>\n",
       "      <td>0</td>\n",
       "      <td>0</td>\n",
       "      <td>0</td>\n",
       "      <td>1.0</td>\n",
       "    </tr>\n",
       "    <tr>\n",
       "      <th>2</th>\n",
       "      <td>3</td>\n",
       "      <td>0</td>\n",
       "      <td>0.658180</td>\n",
       "      <td>38</td>\n",
       "      <td>1</td>\n",
       "      <td>0.085113</td>\n",
       "      <td>3042.0</td>\n",
       "      <td>2</td>\n",
       "      <td>1</td>\n",
       "      <td>0</td>\n",
       "      <td>0</td>\n",
       "      <td>0.0</td>\n",
       "    </tr>\n",
       "    <tr>\n",
       "      <th>3</th>\n",
       "      <td>4</td>\n",
       "      <td>0</td>\n",
       "      <td>0.233810</td>\n",
       "      <td>30</td>\n",
       "      <td>0</td>\n",
       "      <td>0.036050</td>\n",
       "      <td>3300.0</td>\n",
       "      <td>5</td>\n",
       "      <td>0</td>\n",
       "      <td>0</td>\n",
       "      <td>0</td>\n",
       "      <td>0.0</td>\n",
       "    </tr>\n",
       "    <tr>\n",
       "      <th>4</th>\n",
       "      <td>5</td>\n",
       "      <td>0</td>\n",
       "      <td>0.907239</td>\n",
       "      <td>49</td>\n",
       "      <td>1</td>\n",
       "      <td>0.024926</td>\n",
       "      <td>63588.0</td>\n",
       "      <td>7</td>\n",
       "      <td>0</td>\n",
       "      <td>1</td>\n",
       "      <td>0</td>\n",
       "      <td>0.0</td>\n",
       "    </tr>\n",
       "  </tbody>\n",
       "</table>\n",
       "</div>"
      ],
      "text/plain": [
       "   Unnamed: 0  SeriousDlqin2yrs  RevolvingUtilizationOfUnsecuredLines  age  \\\n",
       "0           1                 1                              0.766127   45   \n",
       "1           2                 0                              0.957151   40   \n",
       "2           3                 0                              0.658180   38   \n",
       "3           4                 0                              0.233810   30   \n",
       "4           5                 0                              0.907239   49   \n",
       "\n",
       "   NumberOfTime30-59DaysPastDueNotWorse  DebtRatio  MonthlyIncome  \\\n",
       "0                                     2   0.802982         9120.0   \n",
       "1                                     0   0.121876         2600.0   \n",
       "2                                     1   0.085113         3042.0   \n",
       "3                                     0   0.036050         3300.0   \n",
       "4                                     1   0.024926        63588.0   \n",
       "\n",
       "   NumberOfOpenCreditLinesAndLoans  NumberOfTimes90DaysLate  \\\n",
       "0                               13                        0   \n",
       "1                                4                        0   \n",
       "2                                2                        1   \n",
       "3                                5                        0   \n",
       "4                                7                        0   \n",
       "\n",
       "   NumberRealEstateLoansOrLines  NumberOfTime60-89DaysPastDueNotWorse  \\\n",
       "0                             6                                     0   \n",
       "1                             0                                     0   \n",
       "2                             0                                     0   \n",
       "3                             0                                     0   \n",
       "4                             1                                     0   \n",
       "\n",
       "   NumberOfDependents  \n",
       "0                 2.0  \n",
       "1                 1.0  \n",
       "2                 0.0  \n",
       "3                 0.0  \n",
       "4                 0.0  "
      ]
     },
     "execution_count": 51,
     "metadata": {},
     "output_type": "execute_result"
    }
   ],
   "source": [
    "# Read in the dataset, look at the column names and NAs\n",
    "credit_df = pd.read_csv('cs-training.csv')\n",
    "credit_df.head()\n"
   ]
  },
  {
   "cell_type": "code",
   "execution_count": 52,
   "metadata": {
    "collapsed": false
   },
   "outputs": [
    {
     "data": {
      "text/html": [
       "<div>\n",
       "<table border=\"1\" class=\"dataframe\">\n",
       "  <thead>\n",
       "    <tr style=\"text-align: right;\">\n",
       "      <th></th>\n",
       "      <th>ID</th>\n",
       "      <th>target</th>\n",
       "      <th>revolving_pct</th>\n",
       "      <th>age</th>\n",
       "      <th>30-59_past_due</th>\n",
       "      <th>debt_ratio</th>\n",
       "      <th>monthly_income</th>\n",
       "      <th>lines</th>\n",
       "      <th>gt_90_past_due</th>\n",
       "      <th>mortgages</th>\n",
       "      <th>60-89_past_due</th>\n",
       "      <th>dependents</th>\n",
       "    </tr>\n",
       "  </thead>\n",
       "  <tbody>\n",
       "    <tr>\n",
       "      <th>0</th>\n",
       "      <td>1</td>\n",
       "      <td>1</td>\n",
       "      <td>0.766127</td>\n",
       "      <td>45</td>\n",
       "      <td>2</td>\n",
       "      <td>0.802982</td>\n",
       "      <td>9120.0</td>\n",
       "      <td>13</td>\n",
       "      <td>0</td>\n",
       "      <td>6</td>\n",
       "      <td>0</td>\n",
       "      <td>2</td>\n",
       "    </tr>\n",
       "    <tr>\n",
       "      <th>1</th>\n",
       "      <td>2</td>\n",
       "      <td>0</td>\n",
       "      <td>0.957151</td>\n",
       "      <td>40</td>\n",
       "      <td>0</td>\n",
       "      <td>0.121876</td>\n",
       "      <td>2600.0</td>\n",
       "      <td>4</td>\n",
       "      <td>0</td>\n",
       "      <td>0</td>\n",
       "      <td>0</td>\n",
       "      <td>1</td>\n",
       "    </tr>\n",
       "    <tr>\n",
       "      <th>2</th>\n",
       "      <td>3</td>\n",
       "      <td>0</td>\n",
       "      <td>0.658180</td>\n",
       "      <td>38</td>\n",
       "      <td>1</td>\n",
       "      <td>0.085113</td>\n",
       "      <td>3042.0</td>\n",
       "      <td>2</td>\n",
       "      <td>1</td>\n",
       "      <td>0</td>\n",
       "      <td>0</td>\n",
       "      <td>0</td>\n",
       "    </tr>\n",
       "    <tr>\n",
       "      <th>3</th>\n",
       "      <td>4</td>\n",
       "      <td>0</td>\n",
       "      <td>0.233810</td>\n",
       "      <td>30</td>\n",
       "      <td>0</td>\n",
       "      <td>0.036050</td>\n",
       "      <td>3300.0</td>\n",
       "      <td>5</td>\n",
       "      <td>0</td>\n",
       "      <td>0</td>\n",
       "      <td>0</td>\n",
       "      <td>0</td>\n",
       "    </tr>\n",
       "    <tr>\n",
       "      <th>4</th>\n",
       "      <td>5</td>\n",
       "      <td>0</td>\n",
       "      <td>0.907239</td>\n",
       "      <td>49</td>\n",
       "      <td>1</td>\n",
       "      <td>0.024926</td>\n",
       "      <td>63588.0</td>\n",
       "      <td>7</td>\n",
       "      <td>0</td>\n",
       "      <td>1</td>\n",
       "      <td>0</td>\n",
       "      <td>0</td>\n",
       "    </tr>\n",
       "  </tbody>\n",
       "</table>\n",
       "</div>"
      ],
      "text/plain": [
       "   ID  target  revolving_pct  age  30-59_past_due  debt_ratio  monthly_income  \\\n",
       "0   1       1       0.766127   45               2    0.802982          9120.0   \n",
       "1   2       0       0.957151   40               0    0.121876          2600.0   \n",
       "2   3       0       0.658180   38               1    0.085113          3042.0   \n",
       "3   4       0       0.233810   30               0    0.036050          3300.0   \n",
       "4   5       0       0.907239   49               1    0.024926         63588.0   \n",
       "\n",
       "   lines  gt_90_past_due  mortgages  60-89_past_due  dependents  \n",
       "0     13               0          6               0           2  \n",
       "1      4               0          0               0           1  \n",
       "2      2               1          0               0           0  \n",
       "3      5               0          0               0           0  \n",
       "4      7               0          1               0           0  "
      ]
     },
     "execution_count": 52,
     "metadata": {},
     "output_type": "execute_result"
    }
   ],
   "source": [
    "# Need to do a bit of basic cleanup:\n",
    "\n",
    "# Clean up the column names so it fits on one page width !\n",
    "credit_df.columns = ['ID', 'target', 'revolving_pct', 'age', \n",
    "                     '30-59_past_due', 'debt_ratio', \n",
    "                     'monthly_income', 'lines', \n",
    "                     'gt_90_past_due', 'mortgages', \n",
    "                    '60-89_past_due', 'dependents']\n",
    "\n",
    "# Replace missing values with 0 \n",
    "# (quick-n-dirty ! Should try imputation or reserved value for trees)\n",
    "credit_df[credit_df.isnull()] = 0\n",
    "\n",
    "# Convert dependents to an int\n",
    "credit_df['dependents'] = credit_df['dependents'].astype('int64')\n",
    "\n",
    "# Check how the data looks now\n",
    "credit_df.head()"
   ]
  },
  {
   "cell_type": "code",
   "execution_count": 53,
   "metadata": {
    "collapsed": false,
    "scrolled": true
   },
   "outputs": [
    {
     "name": "stdout",
     "output_type": "stream",
     "text": [
      "(10026, 11)\n",
      "(139974, 11)\n",
      "[t-SNE] Computing pairwise distances...\n",
      "[t-SNE] Computing 121 nearest neighbors...\n",
      "[t-SNE] Computed conditional probabilities for sample 1000 / 19411\n",
      "[t-SNE] Computed conditional probabilities for sample 2000 / 19411\n",
      "[t-SNE] Computed conditional probabilities for sample 3000 / 19411\n",
      "[t-SNE] Computed conditional probabilities for sample 4000 / 19411\n",
      "[t-SNE] Computed conditional probabilities for sample 5000 / 19411\n",
      "[t-SNE] Computed conditional probabilities for sample 6000 / 19411\n",
      "[t-SNE] Computed conditional probabilities for sample 7000 / 19411\n",
      "[t-SNE] Computed conditional probabilities for sample 8000 / 19411\n",
      "[t-SNE] Computed conditional probabilities for sample 9000 / 19411\n",
      "[t-SNE] Computed conditional probabilities for sample 10000 / 19411\n",
      "[t-SNE] Computed conditional probabilities for sample 11000 / 19411\n",
      "[t-SNE] Computed conditional probabilities for sample 12000 / 19411\n",
      "[t-SNE] Computed conditional probabilities for sample 13000 / 19411\n",
      "[t-SNE] Computed conditional probabilities for sample 14000 / 19411\n",
      "[t-SNE] Computed conditional probabilities for sample 15000 / 19411\n",
      "[t-SNE] Computed conditional probabilities for sample 16000 / 19411\n",
      "[t-SNE] Computed conditional probabilities for sample 17000 / 19411\n",
      "[t-SNE] Computed conditional probabilities for sample 18000 / 19411\n",
      "[t-SNE] Computed conditional probabilities for sample 19000 / 19411\n",
      "[t-SNE] Computed conditional probabilities for sample 19411 / 19411\n",
      "[t-SNE] Mean sigma: 8.081531\n",
      "[t-SNE] Iteration 25: error = 0.8969770, gradient norm = 0.0000013\n",
      "[t-SNE] Iteration 25: gradient norm 0.000001. Finished.\n",
      "[t-SNE] Iteration 50: error = 0.8969826, gradient norm = 0.0000033\n",
      "[t-SNE] Iteration 50: gradient norm 0.000003. Finished.\n",
      "[t-SNE] Error after 50 iterations with early exaggeration: 0.896983\n",
      "[t-SNE] Iteration 75: error = 0.8969707, gradient norm = 0.0000094\n",
      "[t-SNE] Iteration 75: gradient norm 0.000009. Finished.\n",
      "[t-SNE] Error after 75 iterations: 0.896971\n"
     ]
    }
   ],
   "source": [
    "# Create training and test data\n",
    "y = credit_df['target']\n",
    "id_val = credit_df['ID']\n",
    "X = credit_df.drop(['target'], axis=1)\n",
    "X = credit_df.drop(['ID'], axis=1)\n",
    "\n",
    "# X_train, X_test, y_train, y_test = train_test_split(credit_df, y, test_size=0.5)\n",
    "\n",
    "\n",
    "# T-SNE is hugely memory memory intensive ! Use random undersampling on majority class\n",
    "x_min = X[y == 1]\n",
    "x_maj = X[y == 0]\n",
    "\n",
    "num_maj = X_maj.shape[0]\n",
    "num_min = X_min.shape[0]\n",
    "x_maj_idx = np.random.randint(num_maj, size=num_min)\n",
    "x_maj_undersamp = x_maj.loc[:num_min,:]\n",
    "\n",
    "# Combine minority and balanced majority examples\n",
    "x_undersamp = np.vstack((x_min, x_maj_undersamp))\n",
    "y_undersamp = np.vstack(np.array(([1] * x_min.shape[0]) + ([0] * x_maj_undersamp.shape[0])))\n",
    "y_undersamp = np.squeeze(y_undersamp)\n",
    "\n",
    "\n",
    "\n",
    "\n",
    "print X_min.shape\n",
    "print X_maj.shape\n",
    "\n",
    "# # Do some data visualizations\n",
    "X_tsne = TSNE(n_components=2, perplexity=40, learning_rate=100, verbose=3).fit_transform(x_undersamp)\n",
    "X_pca = PCA().fit_transform(X)\n",
    "\n",
    "\n"
   ]
  },
  {
   "cell_type": "code",
   "execution_count": 60,
   "metadata": {
    "collapsed": false
   },
   "outputs": [
    {
     "name": "stderr",
     "output_type": "stream",
     "text": [
      "/Users/tim/Library/Enthought/Canopy_64bit/User/lib/python2.7/site-packages/ipykernel/__main__.py:12: VisibleDeprecationWarning: boolean index did not match indexed array along dimension 0; dimension is 150000 but corresponding boolean dimension is 19411\n",
      "/Users/tim/Library/Enthought/Canopy_64bit/User/lib/python2.7/site-packages/ipykernel/__main__.py:13: VisibleDeprecationWarning: boolean index did not match indexed array along dimension 0; dimension is 150000 but corresponding boolean dimension is 19411\n"
     ]
    },
    {
     "data": {
      "text/plain": [
       "<matplotlib.collections.PathCollection at 0x114afb690>"
      ]
     },
     "execution_count": 60,
     "metadata": {},
     "output_type": "execute_result"
    },
    {
     "data": {
      "image/png": "[encoded data removed]",
      "text/plain": [
       "<matplotlib.figure.Figure at 0x114ecb550>"
      ]
     },
     "metadata": {},
     "output_type": "display_data"
    }
   ],
   "source": [
    "from pylab import rcParams\n",
    "\n",
    "plt.subplots_adjust(bottom=.05, top=.9, left=.05, right=.95)\n",
    "rcParams['figure.figsize'] = (10.0, 10.0)\n",
    "\n",
    "plt.subplot(211)\n",
    "# plt.scatter(X_tsne[:, 0], X_tsne[:, 1], c=y_undersamp, cmap = plt.get_cmap(\"Reds\"))\n",
    "plt.scatter(X_tsne[y_undersamp == 0][:, 0], X_tsne[y_undersamp == 0][:, 1], s=100, marker = \"x\", color=\"black\")\n",
    "plt.scatter(X_tsne[y_undersamp == 1][:, 0], X_tsne[y_undersamp == 1][:, 1], s=100, marker = \"x\", color=\"red\")\n",
    "\n",
    "plt.subplot(212)\n",
    "plt.scatter(X_pca[y_undersamp == 0][:, 0], X_pca[y_undersamp == 0][:, 1], s=100, marker = \"x\", color=\"black\")\n",
    "plt.scatter(X_pca[y_undersamp == 1][:, 0], X_pca[y_undersamp == 1][:, 1], s=100, marker = \"x\", color=\"red\")\n",
    "\n",
    "\n",
    "# # print y[y==0].shape\n",
    "# print X[y==0].shape\n",
    "# print X[y==1].shape\n",
    "# print X_pca.shape\n",
    "# print X.shape\n",
    "# print X_pca.shape\n",
    "# print X_pca.shape\n",
    "\n",
    "# print (y==0).shape"
   ]
  },
  {
   "cell_type": "code",
   "execution_count": 13,
   "metadata": {
    "collapsed": false
   },
   "outputs": [
    {
     "data": {
      "text/plain": [
       "(150000, 11)"
      ]
     },
     "execution_count": 13,
     "metadata": {},
     "output_type": "execute_result"
    }
   ],
   "source": [
    "X_pca.shape"
   ]
  },
  {
   "cell_type": "code",
   "execution_count": 35,
   "metadata": {
    "collapsed": false
   },
   "outputs": [
    {
     "data": {
      "text/plain": [
       "LogisticRegression(C=1.0, class_weight=None, dual=False, fit_intercept=True,\n",
       "          intercept_scaling=1, max_iter=100, multi_class='ovr', n_jobs=1,\n",
       "          penalty='l2', random_state=None, solver='liblinear', tol=0.0001,\n",
       "          verbose=0, warm_start=False)"
      ]
     },
     "execution_count": 35,
     "metadata": {},
     "output_type": "execute_result"
    }
   ],
   "source": [
    "# Train a logistic regression model\n",
    "classifier = LogisticRegression()\n",
    "classifier.fit(X_train, y_train)\n"
   ]
  },
  {
   "cell_type": "code",
   "execution_count": null,
   "metadata": {
    "collapsed": true
   },
   "outputs": [],
   "source": []
  }
 ],
 "metadata": {
  "kernelspec": {
   "display_name": "Python 2",
   "language": "python",
   "name": "python2"
  },
  "language_info": {
   "codemirror_mode": {
    "name": "ipython",
    "version": 2
   },
   "file_extension": ".py",
   "mimetype": "text/x-python",
   "name": "python",
   "nbconvert_exporter": "python",
   "pygments_lexer": "ipython2",
   "version": "2.7.10"
  }
 },
 "nbformat": 4,
 "nbformat_minor": 0
}
